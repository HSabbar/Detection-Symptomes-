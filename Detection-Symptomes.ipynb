{
 "cells": [
  {
   "cell_type": "code",
   "execution_count": 1,
   "metadata": {},
   "outputs": [],
   "source": [
    "from typing import Pattern\n",
    "import pandas as pd \n",
    "import numpy as np\n",
    "import nltk\n",
    "import csv\n",
    "import re\n",
    "from re import sub\n",
    "import sys\n",
    "from unidecode import unidecode\n",
    "from nltk.corpus import stopwords\n",
    "from nltk.tokenize import word_tokenize\n",
    "from nltk.stem import WordNetLemmatizer\n",
    "stop_words = set(stopwords.words('french'))\n"
   ]
  },
  {
   "cell_type": "code",
   "execution_count": 2,
   "metadata": {},
   "outputs": [],
   "source": [
    "path_data = \"data/data-training-clean.csv\"\n",
    "path_test = \"data/exportNETSOINS_TRANSMISSIONS_semaine319.csv\"\n",
    "categories = ['GRIPPE_IRA', 'GEA_DIARRHEES', 'SUSPICION_TIAC', 'CHUTES', 'APPEL_SAMU', 'VACCINATION']\n",
    "\n",
    "PATTERN_SUPP_HTML : Pattern = re.compile(r'<(.*?)>')\n",
    "REPLACE_NO_SPACE : Pattern= re.compile(r\"['.;:!*=\\%?,<>\\\"()\\[\\]]\")\n",
    "REPLACE_WITH_SPACE : Pattern = re.compile(r\"(<br\\s*/><br\\s*/>)|(\\-)|(\\/)|°\")"
   ]
  },
  {
   "cell_type": "code",
   "execution_count": 3,
   "metadata": {},
   "outputs": [],
   "source": [
    "# nettoyer le texte \n",
    "def preprocess_clean(reviews):\n",
    "    #if type(reviews) != float:\n",
    "    reviews = str(reviews).lower() # mettre le texte en minuscule\n",
    "\n",
    "    reviews = re.sub(r'\\bagrave\\b', 'a', reviews) #replacer agrave par a (!à)\n",
    "    reviews = re.sub(r'\\beacut\\b|\\begrave\\b|\\bpreacute\\b', 'e', reviews)#\n",
    "\n",
    "    sub_html = re.findall(PATTERN_SUPP_HTML, reviews) #supprimer les balise html\n",
    "    for html in sub_html:\n",
    "        if html:\n",
    "            reviews = re.sub(r'\\s+', ' ', reviews)\n",
    "            reviews = re.sub(r\"\\'\", ' ', reviews)\n",
    "            reviews = reviews.replace(html, ' ')\n",
    "            reviews = reviews.replace('< >', ' ')\n",
    "    \n",
    "    reviews = REPLACE_NO_SPACE.sub(' ', reviews) #supprimer tout les caracteres [.;:!=\\%?,\\\"()\\[\\]]\n",
    "    reviews = REPLACE_WITH_SPACE.sub(' ', reviews) #supprimer espace entre balise html au cas où y'en a \n",
    "    reviews = reviews.replace('ttt', 'traitement') \n",
    "    reviews = re.sub(r\"([+])\", ' plus ', reviews)\n",
    "    reviews = re.sub(r\"([+])\", ' ', reviews)\n",
    "    reviews = re.sub(r'[0-9]', ' ', reviews)\n",
    "    #reviews = re.sub(r'\\b\\w{1,3}\\b',' ', reviews)\n",
    "\n",
    "    #La première manipulation souvent effectuée dans le traitement du texte est la suppression de ce qu'on \n",
    "    #appelle en anglais les stopwords. Ce sont les mots très courants dans la langue étudiée \n",
    "    #(\"et\", \"à\", \"le\"... en français) qui n'apportent pas de valeur informative pour la compréhension \n",
    "    #du \"sens\" d'un document et corpus. Il sont très fréquents et ralentissent notre travail : \n",
    "    #nous souhaitons donc les supprimer.\n",
    "    for word in reviews.split() :\n",
    "        if word in stop_words or len(word) < 2:\n",
    "            word = r'\\b' + word + r'\\b'\n",
    "            reviews = re.sub(word, '', str(reviews))\n",
    "         \n",
    "    reviews = re.sub(' +', ' ', reviews)#supprimer tout espace de plus qui peut exister à la fin de traitement\n",
    "    #print(reviews)\n",
    "    return reviews"
   ]
  },
  {
   "cell_type": "code",
   "execution_count": 4,
   "metadata": {},
   "outputs": [],
   "source": [
    "#df = pd.read_excel(path_data, index_col=0) \n",
    "#df = df[['libelle2', 'GRIPPE_IRA', 'GEA_DIARRHEES', 'SUSPICION_TIAC', 'CHUTES', 'APPEL_SAMU', 'VACCINATION']]\n",
    "#df = df[df['libelle2'].str.strip().astype(bool)]\n",
    "#df = df[df['libelle2'].str.strip().astype(bool)] #df.iloc[:, df.columns != 'libelle2'].astype(int)\n"
   ]
  },
  {
   "cell_type": "code",
   "execution_count": 5,
   "metadata": {},
   "outputs": [],
   "source": [
    "#df[categories] = df[categories].apply(lambda x: x.astype(int))#cast float(False ou True) en 0 ou 1\n",
    "#df.libelle2 = df.libelle2.apply(lambda x: preprocess_clean(x))#nettoyer le texte la colonne libelle2\n",
    "#df = df.sample(frac=1).reset_index(drop=True) #mélanger les données\n",
    "#df.head(20)"
   ]
  },
  {
   "cell_type": "code",
   "execution_count": 6,
   "metadata": {},
   "outputs": [],
   "source": [
    "#df.to_csv('data/data-training-clean.csv', sep=';', encoding='utf-8')"
   ]
  },
  {
   "cell_type": "code",
   "execution_count": 7,
   "metadata": {},
   "outputs": [],
   "source": [
    "df = pd.read_csv(path_data, encoding='utf-8', sep=\";\")"
   ]
  },
  {
   "cell_type": "markdown",
   "metadata": {},
   "source": [
    "# Pre-Processing "
   ]
  },
  {
   "cell_type": "code",
   "execution_count": 8,
   "metadata": {},
   "outputs": [
    {
     "data": {
      "text/html": [
       "<div>\n",
       "<style scoped>\n",
       "    .dataframe tbody tr th:only-of-type {\n",
       "        vertical-align: middle;\n",
       "    }\n",
       "\n",
       "    .dataframe tbody tr th {\n",
       "        vertical-align: top;\n",
       "    }\n",
       "\n",
       "    .dataframe thead th {\n",
       "        text-align: right;\n",
       "    }\n",
       "</style>\n",
       "<table border=\"1\" class=\"dataframe\">\n",
       "  <thead>\n",
       "    <tr style=\"text-align: right;\">\n",
       "      <th></th>\n",
       "      <th>Unnamed: 0</th>\n",
       "      <th>libelle2</th>\n",
       "      <th>GRIPPE_IRA</th>\n",
       "      <th>GEA_DIARRHEES</th>\n",
       "      <th>SUSPICION_TIAC</th>\n",
       "      <th>CHUTES</th>\n",
       "      <th>APPEL_SAMU</th>\n",
       "      <th>VACCINATION</th>\n",
       "    </tr>\n",
       "  </thead>\n",
       "  <tbody>\n",
       "    <tr>\n",
       "      <th>0</th>\n",
       "      <td>0</td>\n",
       "      <td>type  ecpascore  commentaire  coucher lors c...</td>\n",
       "      <td>0</td>\n",
       "      <td>0</td>\n",
       "      <td>0</td>\n",
       "      <td>0</td>\n",
       "      <td>0</td>\n",
       "      <td>0</td>\n",
       "    </tr>\n",
       "    <tr>\n",
       "      <th>1</th>\n",
       "      <td>1</td>\n",
       "      <td>mr mangé matin très peu bu durant petit déjeuner</td>\n",
       "      <td>0</td>\n",
       "      <td>0</td>\n",
       "      <td>0</td>\n",
       "      <td>0</td>\n",
       "      <td>0</td>\n",
       "      <td>0</td>\n",
       "    </tr>\n",
       "    <tr>\n",
       "      <th>2</th>\n",
       "      <td>2</td>\n",
       "      <td>réception mise place nouvelles chaussures chut</td>\n",
       "      <td>0</td>\n",
       "      <td>0</td>\n",
       "      <td>0</td>\n",
       "      <td>0</td>\n",
       "      <td>0</td>\n",
       "      <td>0</td>\n",
       "    </tr>\n",
       "    <tr>\n",
       "      <th>3</th>\n",
       "      <td>3</td>\n",
       "      <td>hg jour prochain bilan</td>\n",
       "      <td>0</td>\n",
       "      <td>0</td>\n",
       "      <td>0</td>\n",
       "      <td>0</td>\n",
       "      <td>0</td>\n",
       "      <td>0</td>\n",
       "    </tr>\n",
       "    <tr>\n",
       "      <th>4</th>\n",
       "      <td>4</td>\n",
       "      <td>compte rendu psychomotricité groupe thérapeuti...</td>\n",
       "      <td>0</td>\n",
       "      <td>0</td>\n",
       "      <td>0</td>\n",
       "      <td>0</td>\n",
       "      <td>0</td>\n",
       "      <td>0</td>\n",
       "    </tr>\n",
       "    <tr>\n",
       "      <th>5</th>\n",
       "      <td>5</td>\n",
       "      <td>demande prescription faite mt feuille mesure p...</td>\n",
       "      <td>0</td>\n",
       "      <td>0</td>\n",
       "      <td>0</td>\n",
       "      <td>0</td>\n",
       "      <td>0</td>\n",
       "      <td>0</td>\n",
       "    </tr>\n",
       "    <tr>\n",
       "      <th>6</th>\n",
       "      <td>6</td>\n",
       "      <td>midi vue fille expliquée maman voulue être la...</td>\n",
       "      <td>0</td>\n",
       "      <td>0</td>\n",
       "      <td>0</td>\n",
       "      <td>0</td>\n",
       "      <td>0</td>\n",
       "      <td>0</td>\n",
       "    </tr>\n",
       "    <tr>\n",
       "      <th>7</th>\n",
       "      <td>7</td>\n",
       "      <td>soin installation petit déjeunerrégimes régime...</td>\n",
       "      <td>0</td>\n",
       "      <td>0</td>\n",
       "      <td>0</td>\n",
       "      <td>0</td>\n",
       "      <td>0</td>\n",
       "      <td>0</td>\n",
       "    </tr>\n",
       "    <tr>\n",
       "      <th>8</th>\n",
       "      <td>8</td>\n",
       "      <td>soin pedicuriefraisage massage</td>\n",
       "      <td>0</td>\n",
       "      <td>0</td>\n",
       "      <td>0</td>\n",
       "      <td>0</td>\n",
       "      <td>0</td>\n",
       "      <td>0</td>\n",
       "    </tr>\n",
       "    <tr>\n",
       "      <th>9</th>\n",
       "      <td>9</td>\n",
       "      <td>mme vue début nuit fc sat siffle peu ni vni ni...</td>\n",
       "      <td>0</td>\n",
       "      <td>0</td>\n",
       "      <td>0</td>\n",
       "      <td>0</td>\n",
       "      <td>0</td>\n",
       "      <td>0</td>\n",
       "    </tr>\n",
       "  </tbody>\n",
       "</table>\n",
       "</div>"
      ],
      "text/plain": [
       "   Unnamed: 0                                           libelle2  GRIPPE_IRA  \\\n",
       "0           0    type  ecpascore  commentaire  coucher lors c...           0   \n",
       "1           1  mr mangé matin très peu bu durant petit déjeuner            0   \n",
       "2           2     réception mise place nouvelles chaussures chut           0   \n",
       "3           3                            hg jour prochain bilan            0   \n",
       "4           4  compte rendu psychomotricité groupe thérapeuti...           0   \n",
       "5           5  demande prescription faite mt feuille mesure p...           0   \n",
       "6           6   midi vue fille expliquée maman voulue être la...           0   \n",
       "7           7  soin installation petit déjeunerrégimes régime...           0   \n",
       "8           8                     soin pedicuriefraisage massage           0   \n",
       "9           9  mme vue début nuit fc sat siffle peu ni vni ni...           0   \n",
       "\n",
       "   GEA_DIARRHEES  SUSPICION_TIAC  CHUTES  APPEL_SAMU  VACCINATION  \n",
       "0              0               0       0           0            0  \n",
       "1              0               0       0           0            0  \n",
       "2              0               0       0           0            0  \n",
       "3              0               0       0           0            0  \n",
       "4              0               0       0           0            0  \n",
       "5              0               0       0           0            0  \n",
       "6              0               0       0           0            0  \n",
       "7              0               0       0           0            0  \n",
       "8              0               0       0           0            0  \n",
       "9              0               0       0           0            0  "
      ]
     },
     "execution_count": 8,
     "metadata": {},
     "output_type": "execute_result"
    }
   ],
   "source": [
    "df.libelle2 = df.libelle2.apply(lambda x: preprocess_clean(x))#nettoyer le texte la colonne libelle2\n",
    "df.head(10)"
   ]
  },
  {
   "cell_type": "code",
   "execution_count": 9,
   "metadata": {},
   "outputs": [
    {
     "data": {
      "text/plain": [
       "651001"
      ]
     },
     "execution_count": 9,
     "metadata": {},
     "output_type": "execute_result"
    }
   ],
   "source": [
    "#x = df.iloc[:, df.columns == 'GRIPPE_IRA'].astype(int)\n",
    "len(df)"
   ]
  },
  {
   "cell_type": "code",
   "execution_count": 10,
   "metadata": {},
   "outputs": [
    {
     "name": "stdout",
     "output_type": "stream",
     "text": [
      "GRIPPE_IRA :  GRIPPE_IRA\n",
      "0    649947\n",
      "1      1054\n",
      "dtype: int64\n",
      "GEA_DIARRHEES : GEA_DIARRHEES\n",
      "0    650596\n",
      "1       405\n",
      "dtype: int64\n",
      "SUSPICION_TIAC : SUSPICION_TIAC\n",
      "0    650637\n",
      "1       364\n",
      "dtype: int64\n",
      "CHUTES : CHUTES\n",
      "0    624616\n",
      "1     26385\n",
      "dtype: int64\n",
      "APPEL_SAMU : APPEL_SAMU\n",
      "0    648243\n",
      "1      2758\n",
      "dtype: int64\n",
      "VACCINATION : VACCINATION\n",
      "0    650474\n",
      "1       527\n",
      "dtype: int64\n"
     ]
    }
   ],
   "source": [
    "output = df.drop_duplicates()\n",
    "print('GRIPPE_IRA : ', output.groupby('GRIPPE_IRA').size())\n",
    "print('GEA_DIARRHEES :', output.groupby('GEA_DIARRHEES').size())\n",
    "print('SUSPICION_TIAC :', output.groupby('SUSPICION_TIAC').size())\n",
    "print('CHUTES :', output.groupby('CHUTES').size())\n",
    "print('APPEL_SAMU :', output.groupby('APPEL_SAMU').size())\n",
    "print('VACCINATION :', output.groupby('VACCINATION').size())"
   ]
  },
  {
   "cell_type": "code",
   "execution_count": 11,
   "metadata": {},
   "outputs": [
    {
     "data": {
      "text/plain": [
       "'\\ndf_Test = pd.read_csv(path_test, encoding=\\'utf-8\\', sep=\";\")\\n#df_Test = df_Test.head(1000)\\ndf_Test = df_Test[[\\'libelle2\\']]\\ndf_Test = df_Test[df_Test[\\'libelle2\\'].str.strip().astype(bool)]\\ndf_Test.libelle2 = df_Test.libelle2.apply(lambda x: preprocess_clean(x))\\ndf_Test = df_Test.sample(frac=1).reset_index(drop=True) #mix data\\ndf_Test.head(10)\\n'"
      ]
     },
     "execution_count": 11,
     "metadata": {},
     "output_type": "execute_result"
    }
   ],
   "source": [
    "'''\n",
    "df_Test = pd.read_csv(path_test, encoding='utf-8', sep=\";\")\n",
    "#df_Test = df_Test.head(1000)\n",
    "df_Test = df_Test[['libelle2']]\n",
    "df_Test = df_Test[df_Test['libelle2'].str.strip().astype(bool)]\n",
    "df_Test.libelle2 = df_Test.libelle2.apply(lambda x: preprocess_clean(x))\n",
    "df_Test = df_Test.sample(frac=1).reset_index(drop=True) #mix data\n",
    "df_Test.head(10)\n",
    "'''\n"
   ]
  },
  {
   "cell_type": "code",
   "execution_count": 63,
   "metadata": {},
   "outputs": [],
   "source": [
    "data = []\n",
    "cont = 0\n",
    "for id_, libelle2, GRIPPE_IRA, GEA_DIARRHEES, SUSPICION_TIAC, CHUTES, APPEL_SAMU, VACCINATION in df.values.tolist():\n",
    "    lable = ''\n",
    "#CHUTES APPEL_SAMU \n",
    "\n",
    "    if GRIPPE_IRA:\n",
    "        #print(id_, libelle2)\n",
    "        lable += 'GRIPPE_IRA '\n",
    "        data.append((libelle2, lable))\n",
    "    '''   \n",
    "    elif GEA_DIARRHEES :\n",
    "        lable += 'GEA_DIARRHEES '\n",
    "        data.append((libelle2, lable))\n",
    "        \n",
    "    elif SUSPICION_TIAC : \n",
    "        lable += 'SUSPICION_TIAC '\n",
    "        data.append((libelle2, lable))\n",
    "        \n",
    "    elif CHUTES : \n",
    "        lable += 'CHUTES '\n",
    "        data.append((libelle2, lable))\n",
    "        \n",
    "    elif APPEL_SAMU :\n",
    "        #print(id_, libelle2)\n",
    "        lable += 'APPEL_SAMU '\n",
    "        data.append((libelle2, lable))\n",
    "    elif VACCINATION :\n",
    "        lable += 'VACCINATION '\n",
    "        data.append((libelle2, lable))\n",
    "    ''' \n",
    "    if lable == '':\n",
    "        #print(id_, libelle2)\n",
    "        lable = 'rien'\n",
    "        cont += 1\n",
    "        \n",
    "        \n",
    "    if lable == 'rien' and cont % 10 == 0: \n",
    "        data.append((libelle2, lable))\n",
    "        \n",
    "        \n",
    "    \n",
    "    lable = ''"
   ]
  },
  {
   "cell_type": "code",
   "execution_count": 13,
   "metadata": {},
   "outputs": [
    {
     "data": {
      "text/plain": [
       "66048"
      ]
     },
     "execution_count": 13,
     "metadata": {},
     "output_type": "execute_result"
    }
   ],
   "source": [
    "len(data)"
   ]
  },
  {
   "cell_type": "code",
   "execution_count": 16,
   "metadata": {},
   "outputs": [
    {
     "data": {
      "text/html": [
       "<div>\n",
       "<style scoped>\n",
       "    .dataframe tbody tr th:only-of-type {\n",
       "        vertical-align: middle;\n",
       "    }\n",
       "\n",
       "    .dataframe tbody tr th {\n",
       "        vertical-align: top;\n",
       "    }\n",
       "\n",
       "    .dataframe thead th {\n",
       "        text-align: right;\n",
       "    }\n",
       "</style>\n",
       "<table border=\"1\" class=\"dataframe\">\n",
       "  <thead>\n",
       "    <tr style=\"text-align: right;\">\n",
       "      <th></th>\n",
       "      <th>libelle2</th>\n",
       "      <th>label</th>\n",
       "      <th>label_num</th>\n",
       "    </tr>\n",
       "  </thead>\n",
       "  <tbody>\n",
       "    <tr>\n",
       "      <th>0</th>\n",
       "      <td>repas monter chambre installation adaptable re...</td>\n",
       "      <td>rien</td>\n",
       "      <td>1</td>\n",
       "    </tr>\n",
       "    <tr>\n",
       "      <th>1</th>\n",
       "      <td>concerne rdv cardio prendre avant toute inter...</td>\n",
       "      <td>rien</td>\n",
       "      <td>1</td>\n",
       "    </tr>\n",
       "    <tr>\n",
       "      <th>2</th>\n",
       "      <td>après lecture transmissions concernant escarre...</td>\n",
       "      <td>rien</td>\n",
       "      <td>1</td>\n",
       "    </tr>\n",
       "    <tr>\n",
       "      <th>3</th>\n",
       "      <td>fentanyl mcg lavip trans fentanyl transdermique</td>\n",
       "      <td>rien</td>\n",
       "      <td>1</td>\n",
       "    </tr>\n",
       "    <tr>\n",
       "      <th>4</th>\n",
       "      <td>mme refuse soins</td>\n",
       "      <td>rien</td>\n",
       "      <td>1</td>\n",
       "    </tr>\n",
       "    <tr>\n",
       "      <th>5</th>\n",
       "      <td>entendu tousser</td>\n",
       "      <td>rien</td>\n",
       "      <td>1</td>\n",
       "    </tr>\n",
       "    <tr>\n",
       "      <th>6</th>\n",
       "      <td>attente analyse</td>\n",
       "      <td>rien</td>\n",
       "      <td>1</td>\n",
       "    </tr>\n",
       "    <tr>\n",
       "      <th>7</th>\n",
       "      <td>infection respiratoire aigue</td>\n",
       "      <td>GRIPPE_IRA</td>\n",
       "      <td>0</td>\n",
       "    </tr>\n",
       "    <tr>\n",
       "      <th>8</th>\n",
       "      <td>cuisine prévenu ide prévenu</td>\n",
       "      <td>rien</td>\n",
       "      <td>1</td>\n",
       "    </tr>\n",
       "    <tr>\n",
       "      <th>9</th>\n",
       "      <td>sans selles jour</td>\n",
       "      <td>rien</td>\n",
       "      <td>1</td>\n",
       "    </tr>\n",
       "  </tbody>\n",
       "</table>\n",
       "</div>"
      ],
      "text/plain": [
       "                                            libelle2        label  label_num\n",
       "0  repas monter chambre installation adaptable re...         rien          1\n",
       "1   concerne rdv cardio prendre avant toute inter...         rien          1\n",
       "2  après lecture transmissions concernant escarre...         rien          1\n",
       "3    fentanyl mcg lavip trans fentanyl transdermique         rien          1\n",
       "4                                  mme refuse soins          rien          1\n",
       "5                                    entendu tousser         rien          1\n",
       "6                                    attente analyse         rien          1\n",
       "7                       infection respiratoire aigue  GRIPPE_IRA           0\n",
       "8                       cuisine prévenu ide prévenu          rien          1\n",
       "9                                   sans selles jour         rien          1"
      ]
     },
     "execution_count": 16,
     "metadata": {},
     "output_type": "execute_result"
    }
   ],
   "source": [
    "from sklearn.preprocessing import LabelEncoder\n",
    "\n",
    "df_data = pd.DataFrame(data, columns =['libelle2', 'label']) \n",
    "df_data = df_data.sample(frac=1).reset_index(drop=True)\n",
    "\n",
    "#ajouter une colonne où on transmet le label en nombre correspondant.\n",
    "LE = LabelEncoder()\n",
    "df_data['label_num'] = LE.fit_transform(df_data['label'])\n",
    "df_data.head(10)"
   ]
  },
  {
   "cell_type": "code",
   "execution_count": 17,
   "metadata": {},
   "outputs": [
    {
     "data": {
      "text/plain": [
       "label\n",
       "GRIPPE_IRA      1054\n",
       "rien           64994\n",
       "Name: libelle2, dtype: int64"
      ]
     },
     "metadata": {},
     "output_type": "display_data"
    }
   ],
   "source": [
    "display(df_data.groupby(['label'])['libelle2'].count())\n",
    "#display(df_holdout.groupby(['label'])['libelle2'].count())\n"
   ]
  },
  {
   "cell_type": "markdown",
   "metadata": {},
   "source": [
    "# Normaliser les données "
   ]
  },
  {
   "cell_type": "code",
   "execution_count": 18,
   "metadata": {},
   "outputs": [
    {
     "name": "stderr",
     "output_type": "stream",
     "text": [
      "Using TensorFlow backend.\n"
     ]
    },
    {
     "name": "stdout",
     "output_type": "stream",
     "text": [
      "Found 45116 unique tokens.\n"
     ]
    }
   ],
   "source": [
    "from keras.preprocessing.text import Tokenizer\n",
    "# The maximum number of words to be used. (most frequent)\n",
    "MAX_NB_WORDS = 50000\n",
    "# Max number of words in each complaint.\n",
    "MAX_SEQUENCE_LENGTH = 512\n",
    "# This is fixed.\n",
    "EMBEDDING_DIM = 100\n",
    "texts = df_data['libelle2'].astype('str')\n",
    "tokenizer = Tokenizer(num_words=MAX_NB_WORDS, filters='!\"#$%&()*+,-./:;<=>?@[\\]^_`{|}~', lower=True)\n",
    "tokenizer.fit_on_texts(texts)\n",
    "word_index = tokenizer.word_index\n",
    "print('Found %s unique tokens.' % len(word_index))"
   ]
  },
  {
   "cell_type": "code",
   "execution_count": 19,
   "metadata": {},
   "outputs": [
    {
     "data": {
      "text/plain": [
       "{'plus': 1,\n",
       " 'mme': 2,\n",
       " 'matin': 3,\n",
       " 'jour': 4,\n",
       " 'nuit': 5,\n",
       " 'fait': 6,\n",
       " 'non': 7,\n",
       " 'chambre': 8,\n",
       " 'bien': 9,\n",
       " 'mr': 10}"
      ]
     },
     "execution_count": 19,
     "metadata": {},
     "output_type": "execute_result"
    }
   ],
   "source": [
    "dict(list(word_index.items())[0:10])\n"
   ]
  },
  {
   "cell_type": "code",
   "execution_count": 20,
   "metadata": {},
   "outputs": [
    {
     "name": "stdout",
     "output_type": "stream",
     "text": [
      "Shape of data tensor: (66048, 512)\n"
     ]
    }
   ],
   "source": [
    "from keras.preprocessing.sequence import pad_sequences\n",
    "X = tokenizer.texts_to_sequences(texts)\n",
    "X = pad_sequences(X, maxlen=MAX_SEQUENCE_LENGTH)\n",
    "print('Shape of data tensor:', X.shape)"
   ]
  },
  {
   "cell_type": "code",
   "execution_count": 21,
   "metadata": {},
   "outputs": [
    {
     "name": "stdout",
     "output_type": "stream",
     "text": [
      "Shape of label tensor: (66048,)\n"
     ]
    }
   ],
   "source": [
    "Y = df_data['label_num'].values\n",
    "print('Shape of label tensor:', Y.shape)"
   ]
  },
  {
   "cell_type": "markdown",
   "metadata": {},
   "source": [
    "# Train test split "
   ]
  },
  {
   "cell_type": "code",
   "execution_count": 23,
   "metadata": {},
   "outputs": [
    {
     "name": "stdout",
     "output_type": "stream",
     "text": [
      "(59443, 512) (59443,)\n",
      "(6605, 512) (6605,)\n"
     ]
    }
   ],
   "source": [
    "from sklearn.model_selection import train_test_split\n",
    "X_train, X_test, Y_train, Y_test = train_test_split(X,Y, test_size = 0.10, random_state = 42)\n",
    "print(X_train.shape,Y_train.shape)\n",
    "print(X_test.shape,Y_test.shape)"
   ]
  },
  {
   "cell_type": "code",
   "execution_count": 24,
   "metadata": {},
   "outputs": [],
   "source": [
    "import numpy\n",
    "from keras.datasets import imdb\n",
    "from keras.models import Sequential\n",
    "from keras.layers import Dense\n",
    "from keras.layers import LSTM, Dropout, SpatialDropout1D\n",
    "from keras.layers.embeddings import Embedding\n",
    "from keras.preprocessing import sequence\n",
    "from keras.callbacks import ModelCheckpoint, EarlyStopping\n",
    "# fix random seed for reproducibility\n",
    "numpy.random.seed(7)"
   ]
  },
  {
   "cell_type": "markdown",
   "metadata": {},
   "source": [
    "# Créer le modèle"
   ]
  },
  {
   "cell_type": "code",
   "execution_count": 56,
   "metadata": {},
   "outputs": [
    {
     "name": "stdout",
     "output_type": "stream",
     "text": [
      "_________________________________________________________________\n",
      "Layer (type)                 Output Shape              Param #   \n",
      "=================================================================\n",
      "embedding_2 (Embedding)      (None, 512, 200)          10000000  \n",
      "_________________________________________________________________\n",
      "spatial_dropout1d_2 (Spatial (None, 512, 200)          0         \n",
      "_________________________________________________________________\n",
      "lstm_2 (LSTM)                (None, 60)                62640     \n",
      "_________________________________________________________________\n",
      "dense_2 (Dense)              (None, 2)                 122       \n",
      "=================================================================\n",
      "Total params: 10,062,762\n",
      "Trainable params: 10,062,762\n",
      "Non-trainable params: 0\n",
      "_________________________________________________________________\n",
      "None\n"
     ]
    }
   ],
   "source": [
    "# create the model\n",
    "model = Sequential()\n",
    "model.add(Embedding(MAX_NB_WORDS, EMBEDDING_DIM, input_length=X_train.shape[1]))\n",
    "model.add(SpatialDropout1D(0.2))\n",
    "model.add(LSTM(60, dropout=0.2, recurrent_dropout=0.2))\n",
    "model.add(Dense(2, activation='softmax'))\n",
    "model.compile(loss='sparse_categorical_crossentropy', optimizer='adam', metrics=['accuracy'])\n",
    "print(model.summary())\n"
   ]
  },
  {
   "cell_type": "code",
   "execution_count": 26,
   "metadata": {},
   "outputs": [
    {
     "name": "stdout",
     "output_type": "stream",
     "text": [
      "WARNING:tensorflow:From /usr/local/lib/python3.7/site-packages/tensorflow/python/ops/math_ops.py:3066: to_int32 (from tensorflow.python.ops.math_ops) is deprecated and will be removed in a future version.\n",
      "Instructions for updating:\n",
      "Use tf.cast instead.\n",
      "Train on 53498 samples, validate on 5945 samples\n",
      "Epoch 1/5\n",
      "53498/53498 [==============================] - 887s 17ms/step - loss: 0.0492 - acc: 0.9880 - val_loss: 0.0197 - val_acc: 0.9938\n",
      "Epoch 2/5\n",
      "53498/53498 [==============================] - 931s 17ms/step - loss: 0.0097 - acc: 0.9968 - val_loss: 0.0148 - val_acc: 0.9963\n",
      "Epoch 3/5\n",
      "53498/53498 [==============================] - 999s 19ms/step - loss: 0.0034 - acc: 0.9989 - val_loss: 0.0234 - val_acc: 0.9943\n",
      "Epoch 4/5\n",
      "53498/53498 [==============================] - 989s 18ms/step - loss: 0.0016 - acc: 0.9995 - val_loss: 0.0287 - val_acc: 0.9951\n",
      "Epoch 5/5\n",
      "53498/53498 [==============================] - 794s 15ms/step - loss: 0.0011 - acc: 0.9997 - val_loss: 0.0288 - val_acc: 0.9951\n"
     ]
    }
   ],
   "source": [
    "epochs = 5\n",
    "batch_size = 64\n",
    "\n",
    "history = model.fit(X_train, Y_train, epochs=epochs, batch_size=batch_size,validation_split=0.1,\n",
    "                    callbacks=[EarlyStopping(monitor='val_loss', patience=3, min_delta=0.0001)]).history\n",
    "\n"
   ]
  },
  {
   "cell_type": "code",
   "execution_count": 27,
   "metadata": {},
   "outputs": [],
   "source": [
    "model.save_weights(\"model/model-GRIPPE_IRA-label-v1.h5\")"
   ]
  },
  {
   "cell_type": "code",
   "execution_count": 307,
   "metadata": {},
   "outputs": [],
   "source": [
    "model.load_weights(\"model/model.h5\")\n"
   ]
  },
  {
   "cell_type": "code",
   "execution_count": 348,
   "metadata": {},
   "outputs": [],
   "source": [
    "#predictions = model.predict(X_test)"
   ]
  },
  {
   "cell_type": "code",
   "execution_count": 28,
   "metadata": {},
   "outputs": [
    {
     "name": "stdout",
     "output_type": "stream",
     "text": [
      "6605/6605 [==============================] - 24s 4ms/step\n",
      "Test set \n",
      "Loss:  0.019 \n",
      "Précision:  0.997\n"
     ]
    }
   ],
   "source": [
    "accr = model.evaluate (X_test, Y_test) \n",
    "print ('Test set \\nLoss: {: 0.3f} \\nPrécision: {: 0.3f}'. format (accr [0], accr [1]))"
   ]
  },
  {
   "cell_type": "code",
   "execution_count": 60,
   "metadata": {},
   "outputs": [],
   "source": [
    "def plot_metrics(history):\n",
    "    \n",
    "    train_loss = history['loss']\n",
    "    val_loss = history['val_loss']\n",
    "    train_acc = history['acc']\n",
    "    val_acc = history['val_acc']\n",
    "    \n",
    "    # Loss\n",
    "    plt.figure()\n",
    "    plt.plot(train_loss, label='Training Loss')\n",
    "    plt.plot(val_loss, label='Validation Loss')\n",
    "    plt.title('Model Loss')\n",
    "    plt.ylabel('loss')\n",
    "    plt.xlabel('epoch')\n",
    "    plt.legend(['train', 'test'], loc='upper left')\n",
    "    plt.legend()\n",
    "    plt.savefig('images/Loss-de-symptômes-.png')\n",
    "    \n",
    "    plt.show()\n",
    "    # Accuracy\n",
    "    plt.figure()\n",
    "    plt.plot(train_acc, label='Training Accuracy')\n",
    "    plt.plot(val_acc, label='Validation Accuracy')\n",
    "    plt.title('Model Accuracy')\n",
    "    plt.ylabel('Accuracy')\n",
    "    plt.xlabel('epoch')\n",
    "    plt.legend(['train', 'test'], loc='upper left')\n",
    "    plt.legend()\n",
    "    plt.savefig('images/Accuracy-de-symptômes-.png')\n",
    "    \n",
    "    plt.show()\n",
    "    "
   ]
  },
  {
   "cell_type": "code",
   "execution_count": 61,
   "metadata": {},
   "outputs": [
    {
     "data": {
      "image/png": "[encoded data removed]",
      "text/plain": [
       "<Figure size 432x288 with 1 Axes>"
      ]
     },
     "metadata": {
      "needs_background": "light"
     },
     "output_type": "display_data"
    },
    {
     "data": {
      "image/png": "[encoded data removed]",
      "text/plain": [
       "<Figure size 432x288 with 1 Axes>"
      ]
     },
     "metadata": {
      "needs_background": "light"
     },
     "output_type": "display_data"
    }
   ],
   "source": [
    "import matplotlib.pyplot as plt\n",
    "plot_metrics(history)"
   ]
  },
  {
   "cell_type": "markdown",
   "metadata": {},
   "source": [
    "# Tester avec des nouvelles transmissions"
   ]
  },
  {
   "cell_type": "code",
   "execution_count": 62,
   "metadata": {},
   "outputs": [
    {
     "name": "stdout",
     "output_type": "stream",
     "text": [
      "pred :  GRIPPE_IRA\n",
      "pred :  GRIPPE_IRA\n",
      "pred :  GRIPPE_IRA\n",
      "pred :  GRIPPE_IRA\n",
      "pred :  GRIPPE_IRA\n",
      "pred :  GRIPPE_IRA\n"
     ]
    }
   ],
   "source": [
    "new_complaint = [\"maintenir isolement doute grippe\", \n",
    "                 \"appel fille nouvelles récidive pneumopathie ème récidive mois dès arrêt antibiotiques \\\n",
    "                 infection redémarre fille aimerai faire point médecin traitant suite\",\n",
    "                \"multiples fausses routes dernières semaines pneumopathies inhalation traitement atbrevoir \\\n",
    "                mt alimentation plaisir texture lisse type yaourt desserts\", \n",
    "                \"hospitalisée médecine thann bronchopneumopathie\", \n",
    "                \"faire test grippale mercredi journée conservation\", \n",
    "                \"nouvelles prises géria mr pneumopathie atbiothérapie débutée jour toujours porteur sad retour \\\n",
    "                domicile prévu\"]\n",
    "for tag_complaint in new_complaint :\n",
    "    tag_complaint = [preprocess_clean(tag_complaint)]\n",
    "    seq = tokenizer.texts_to_sequences(tag_complaint)\n",
    "    padded = pad_sequences(seq, maxlen=MAX_SEQUENCE_LENGTH)\n",
    "    pred = model.predict(padded)\n",
    "\n",
    "    labels = ['GRIPPE_IRA', 'rien']\n",
    "    print('pred : ', labels[np.argmax(pred)])\n"
   ]
  },
  {
   "cell_type": "code",
   "execution_count": 358,
   "metadata": {},
   "outputs": [],
   "source": [
    "from sklearn.dummy import DummyClassifier\n",
    "from sklearn.linear_model import SGDClassifier\n",
    "from sklearn.naive_bayes import GaussianNB\n",
    "from sklearn.tree import DecisionTreeClassifier\n",
    "from sklearn.ensemble import RandomForestClassifier, AdaBoostClassifier\n",
    "from sklearn.neighbors import KNeighborsClassifier\n",
    "from sklearn.multiclass import OneVsRestClassifier\n",
    "\n",
    "from sklearn.model_selection import train_test_split\n",
    "from sklearn.model_selection import GridSearchCV\n",
    "from sklearn.metrics import accuracy_score, precision_score, recall_score, f1_score, roc_curve, auc, confusion_matrix"
   ]
  },
  {
   "cell_type": "code",
   "execution_count": 25,
   "metadata": {},
   "outputs": [],
   "source": [
    "model_dict = {'Dummy' : DummyClassifier(random_state=3),\n",
    "              'Stochastic Gradient Descent' : SGDClassifier(random_state=3, loss='log'),\n",
    "              #'Random Forest': RandomForestClassifier(random_state=3),\n",
    "              #'Decsision Tree': DecisionTreeClassifier(random_state=3),\n",
    "              #'AdaBoost': AdaBoostClassifier(random_state=3),\n",
    "              'Gaussian Naive Bayes': GaussianNB(),\n",
    "              #'K Nearest Neighbor': KNeighborsClassifier()\n",
    "             }"
   ]
  },
  {
   "cell_type": "code",
   "execution_count": 26,
   "metadata": {},
   "outputs": [],
   "source": [
    "X_train, X_test, y_train, y_test = train_test_split(X, \n",
    "                                                    y, \n",
    "                                                    test_size = .3, \n",
    "                                                    shuffle = True, \n",
    "                                                    #stratify = y, \n",
    "                                                    random_state = 42)"
   ]
  },
  {
   "cell_type": "code",
   "execution_count": 27,
   "metadata": {},
   "outputs": [],
   "source": [
    "def model_score_df(model_dict):   \n",
    "    model_name, ac_score_list, p_score_list, r_score_list, f1_score_list = [], [], [], [], []\n",
    "    for k,v in model_dict.items():   \n",
    "        model_name.append(k)\n",
    "        print('lancement de training....')\n",
    "        v.fit(X_train, y_train)\n",
    "        y_pred = v.predict(X_test)\n",
    "        print(k, accuracy_score(y_test, y_pred))\n",
    "        ac_score_list.append(accuracy_score(y_test, y_pred))\n",
    "        p_score_list.append(precision_score(y_test, y_pred, average='macro'))\n",
    "        r_score_list.append(recall_score(y_test, y_pred, average='macro'))\n",
    "        f1_score_list.append(f1_score(y_test, y_pred, average='macro'))\n",
    "        model_comparison_df = pd.DataFrame([model_name, ac_score_list, p_score_list, r_score_list, f1_score_list]).T\n",
    "        model_comparison_df.columns = ['model_name', 'accuracy_score', 'precision_score', 'recall_score', 'f1_score']\n",
    "        model_comparison_df = model_comparison_df.sort_values(by='f1_score', ascending=False)\n",
    "    return model_comparison_df\n",
    "\n",
    "\n"
   ]
  },
  {
   "cell_type": "code",
   "execution_count": 32,
   "metadata": {
    "scrolled": false
   },
   "outputs": [
    {
     "name": "stdout",
     "output_type": "stream",
     "text": [
      "Dummy 0.9077936108878091\n",
      "Stochastic Gradient Descent 0.952693534595317\n"
     ]
    },
    {
     "name": "stderr",
     "output_type": "stream",
     "text": [
      "/usr/local/lib/python3.7/site-packages/sklearn/metrics/classification.py:1437: UndefinedMetricWarning: Precision is ill-defined and being set to 0.0 in labels with no predicted samples.\n",
      "  'precision', 'predicted', average, warn_for)\n",
      "/usr/local/lib/python3.7/site-packages/sklearn/metrics/classification.py:1437: UndefinedMetricWarning: F-score is ill-defined and being set to 0.0 in labels with no predicted samples.\n",
      "  'precision', 'predicted', average, warn_for)\n"
     ]
    },
    {
     "data": {
      "text/html": [
       "<div>\n",
       "<style scoped>\n",
       "    .dataframe tbody tr th:only-of-type {\n",
       "        vertical-align: middle;\n",
       "    }\n",
       "\n",
       "    .dataframe tbody tr th {\n",
       "        vertical-align: top;\n",
       "    }\n",
       "\n",
       "    .dataframe thead th {\n",
       "        text-align: right;\n",
       "    }\n",
       "</style>\n",
       "<table border=\"1\" class=\"dataframe\">\n",
       "  <thead>\n",
       "    <tr style=\"text-align: right;\">\n",
       "      <th></th>\n",
       "      <th>model_name</th>\n",
       "      <th>accuracy_score</th>\n",
       "      <th>precision_score</th>\n",
       "      <th>recall_score</th>\n",
       "      <th>f1_score</th>\n",
       "    </tr>\n",
       "  </thead>\n",
       "  <tbody>\n",
       "    <tr>\n",
       "      <th>0</th>\n",
       "      <td>Dummy</td>\n",
       "      <td>0.907794</td>\n",
       "      <td>0.142459</td>\n",
       "      <td>0.14251</td>\n",
       "      <td>0.142481</td>\n",
       "    </tr>\n",
       "    <tr>\n",
       "      <th>1</th>\n",
       "      <td>Stochastic Gradient Descent</td>\n",
       "      <td>0.952694</td>\n",
       "      <td>0.136099</td>\n",
       "      <td>0.142857</td>\n",
       "      <td>0.139396</td>\n",
       "    </tr>\n",
       "  </tbody>\n",
       "</table>\n",
       "</div>"
      ],
      "text/plain": [
       "                    model_name accuracy_score precision_score recall_score  \\\n",
       "0                        Dummy       0.907794        0.142459      0.14251   \n",
       "1  Stochastic Gradient Descent       0.952694        0.136099     0.142857   \n",
       "\n",
       "   f1_score  \n",
       "0  0.142481  \n",
       "1  0.139396  "
      ]
     },
     "execution_count": 32,
     "metadata": {},
     "output_type": "execute_result"
    }
   ],
   "source": [
    "model_score_df(model_dict)"
   ]
  },
  {
   "cell_type": "code",
   "execution_count": null,
   "metadata": {},
   "outputs": [],
   "source": []
  }
 ],
 "metadata": {
  "kernelspec": {
   "display_name": "Python 3",
   "language": "python",
   "name": "python3"
  },
  "language_info": {
   "codemirror_mode": {
    "name": "ipython",
    "version": 3
   },
   "file_extension": ".py",
   "mimetype": "text/x-python",
   "name": "python",
   "nbconvert_exporter": "python",
   "pygments_lexer": "ipython3",
   "version": "3.7.6"
  }
 },
 "nbformat": 4,
 "nbformat_minor": 2
}
